{
 "cells": [
  {
   "cell_type": "code",
   "execution_count": 1,
   "metadata": {
    "collapsed": true
   },
   "outputs": [],
   "source": [
    "from mpl_toolkits.mplot3d import axes3d\n",
    "import matplotlib.pyplot as plt\n",
    "import numpy as np\n",
    "from matplotlib.patches import FancyArrowPatch\n",
    "from mpl_toolkits.mplot3d import proj3d"
   ]
  },
  {
   "cell_type": "code",
   "execution_count": 2,
   "metadata": {
    "collapsed": true
   },
   "outputs": [],
   "source": [
    "class Arrow3D(FancyArrowPatch):\n",
    "    def __init__(self, xs, ys, zs, *args, **kwargs):\n",
    "        FancyArrowPatch.__init__(self, (0,0), (0,0), *args, **kwargs)\n",
    "        self._verts3d = xs, ys, zs\n",
    "\n",
    "    def draw(self, renderer):\n",
    "        xs3d, ys3d, zs3d = self._verts3d\n",
    "        xs, ys, zs = proj3d.proj_transform(xs3d, ys3d, zs3d, renderer.M)\n",
    "        self.set_positions((xs[0],ys[0]),(xs[1],ys[1]))\n",
    "        FancyArrowPatch.draw(self, renderer)"
   ]
  },
  {
   "cell_type": "code",
   "execution_count": 3,
   "metadata": {
    "scrolled": false
   },
   "outputs": [
    {
     "data": {
      "image/png": "[encoded data removed]",
      "text/plain": [
       "<matplotlib.figure.Figure at 0x10ebbc110>"
      ]
     },
     "metadata": {},
     "output_type": "display_data"
    }
   ],
   "source": [
    "fig = plt.figure()\n",
    "ax = fig.add_subplot(111,projection='3d')\n",
    "X, Y, Z = axes3d.get_test_data(0.01)\n",
    "\n",
    "eta = 1.5\n",
    "lam = 0.8\n",
    "r, theta = np.meshgrid(np.arange(-eta*1.22, eta*1.22, 0.03),\n",
    "                      np.arange(-np.pi,np.pi, 0.03))\n",
    "X = r*np.cos(theta)\n",
    "Y = r*np.sin(theta)\n",
    "\n",
    "Z = 0.5*(lam**2)*(X**2 + Y**2 - eta**2)**2\n",
    "\n",
    "ax.set_xticks([]) \n",
    "ax.set_yticks([]) \n",
    "ax.set_zticks([])\n",
    "ax.w_xaxis.set_pane_color((1.0, 1.0, 1.0, 0.0))\n",
    "ax.w_yaxis.set_pane_color((1.0, 1.0, 1.0, 0.0))\n",
    "ax.w_zaxis.set_pane_color((1.0, 1.0, 1.0, 0.0))\n",
    "\n",
    "ax.w_xaxis.line.set_color((1.0, 1.0, 1.0, 0.0))\n",
    "ax.w_yaxis.line.set_color((1.0, 1.0, 1.0, 0.0))\n",
    "ax.w_zaxis.line.set_color((1.0, 1.0, 1.0, 0.0))\n",
    "\n",
    "#Axis arrows\n",
    "top = 2.2\n",
    "head_size = 16\n",
    "a = Arrow3D([0,0], [0,0], \n",
    "                [-1.25,top], mutation_scale=head_size, \n",
    "                lw=1, arrowstyle=\"-|>\", color=\"Black\",zorder=100)\n",
    "ax.add_artist(a)\n",
    "b = Arrow3D([0,0], [-2.0,3.9], \n",
    "                [0,0], mutation_scale=head_size, \n",
    "                lw=1, arrowstyle=\"-|>\", color=\"Black\",zorder=100)\n",
    "ax.add_artist(b)\n",
    "c = Arrow3D([-2.2,2.5], [0,0], \n",
    "                [0,0], mutation_scale=head_size, \n",
    "                lw=1, arrowstyle=\"-|>\", color=\"Black\",zorder=100)\n",
    "ax.add_artist(c)\n",
    "\n",
    "#Axis labels\n",
    "ax.text(-0.4, 0, top*1.0, \"$y$\", color='Black',size=25)\n",
    "ax.text(0, 3.3, -0.3, \"$x$\", color='Black',size=25)\n",
    "ax.text(2.2, 0, -0.4, \"$z$\", color='Black',size=25)\n",
    "\n",
    "#Field Labels\n",
    "#ax.text(eta+0.52,0.05,0.75,\"$\\chi$\",color='Black',size=15)\n",
    "#ax.text(eta+0.2,-1.2,0.0,r\"$\\varphi$\",color='Black',size=15)\n",
    "\n",
    "#ax.axis('tight')\n",
    "ax.axis('off')\n",
    "\n",
    "#ax.set_aspect('equal')\n",
    "ax.set_zlim([0,2])\n",
    "ax.set_xlim([-1.5,1.5])\n",
    "ax.set_ylim([-1.5,1.5])\n",
    "\n",
    "#Phi\n",
    "r_c = np.ones(100)*1\n",
    "theta_c = np.arange(-np.pi,np.pi+0.1,(2*np.pi+0.1)/100.)\n",
    "x_c = np.zeros(100)\n",
    "z_c = r_c*np.cos(theta_c)\n",
    "y_c = r_c*np.sin(theta_c)\n",
    "\n",
    "index = 20\n",
    "end = 75\n",
    "\n",
    "ax.plot(x_c[:index],y_c[:index],z_c[:index],color='Black',ls=':')\n",
    "ax.plot(x_c[end:],y_c[end:],z_c[end:],color='Black',ls=':')\n",
    "ax.plot(x_c[index:end],y_c[index:end],z_c[index:end],color='Black')\n",
    "\n",
    "d = Arrow3D([x_c[index],x_c[index-1]],\n",
    "            [y_c[index],y_c[index-1]],\n",
    "            [z_c[index],z_c[index-1]],\n",
    "            mutation_scale=head_size, \n",
    "            lw=1, arrowstyle=\"-|>\", color=\"Black\",zorder=100)\n",
    "ax.add_artist(d)\n",
    "ax.text(x_c[index],y_c[index]+0.2,z_c[index]-0.2,\"$\\phi$\",color='Black',size=25)\n",
    "\n",
    "#Theta\n",
    "r_c = np.ones(100)*1\n",
    "theta_c = np.arange(-np.pi,np.pi+0.1,(2*np.pi+0.1)/100.)\n",
    "y_c = np.zeros(100)\n",
    "z_c = r_c*np.cos(theta_c)\n",
    "x_c = r_c*np.sin(theta_c)\n",
    "\n",
    "index = 20\n",
    "end = 75\n",
    "\n",
    "ax.plot(x_c[:index],y_c[:index],z_c[:index],color='Black',ls=':')\n",
    "ax.plot(x_c[end:],y_c[end:],z_c[end:],color='Black',ls=':')\n",
    "ax.plot(x_c[index:end],y_c[index:end],z_c[index:end],color='Black')\n",
    "\n",
    "e = Arrow3D([x_c[index],x_c[index-1]],\n",
    "            [y_c[index],y_c[index-1]],\n",
    "            [z_c[index],z_c[index-1]],\n",
    "            mutation_scale=head_size, \n",
    "            lw=1, arrowstyle=\"-|>\", color=\"Black\",zorder=100)\n",
    "ax.add_artist(e)\n",
    "\n",
    "\n",
    "\n",
    "pseudorapidities = [-3,-1.5,-1.0,-0.1,0.1,3,1.5,0.5,]\n",
    "for pseudo in pseudorapidities:\n",
    "    length = 1.9\n",
    "    theta = np.arctan(np.exp(-1*pseudo))*2\n",
    "    #ax.plot([0,length*np.cos(theta)],[0,0],[0,length*np.sin(theta)],color='Red',lw=1.0,ls='-')\n",
    "    \n",
    "    e = Arrow3D([0,length*np.cos(theta)],\n",
    "                [0,0],[0,length*np.sin(theta)],\n",
    "                mutation_scale=head_size/2, \n",
    "                lw=1, arrowstyle=\"-|>\", color=\"Red\",zorder=100)\n",
    "    if pseudo < 0:\n",
    "        shift_x = -0.9\n",
    "        shift_y = -0.2        \n",
    "    else:\n",
    "        shift_x = 0\n",
    "        shift_y = 0\n",
    "        \n",
    "    ax.text(length*np.cos(theta)+shift_x,0,length*np.sin(theta)+shift_y,\n",
    "            r\"$\\eta=%1.1f$\"%(pseudo),color='Red',size=10)\n",
    "    ax.add_artist(e)\n",
    "\n",
    "ax.text(x_c[index]-0.3,y_c[index]-0.2,z_c[index]-0.2,r\"$\\theta$\",color='Black',size=25)\n",
    "\n",
    "plt.savefig('CMS_coords.pdf', bbox_inches='tight', pad_inches=0)\n",
    "plt.show()"
   ]
  },
  {
   "cell_type": "code",
   "execution_count": null,
   "metadata": {
    "collapsed": true
   },
   "outputs": [],
   "source": []
  },
  {
   "cell_type": "code",
   "execution_count": null,
   "metadata": {
    "collapsed": true
   },
   "outputs": [],
   "source": []
  }
 ],
 "metadata": {
  "kernelspec": {
   "display_name": "Python 2",
   "language": "python",
   "name": "python2"
  },
  "language_info": {
   "codemirror_mode": {
    "name": "ipython",
    "version": 2
   },
   "file_extension": ".py",
   "mimetype": "text/x-python",
   "name": "python",
   "nbconvert_exporter": "python",
   "pygments_lexer": "ipython2",
   "version": "2.7.12"
  }
 },
 "nbformat": 4,
 "nbformat_minor": 2
}
