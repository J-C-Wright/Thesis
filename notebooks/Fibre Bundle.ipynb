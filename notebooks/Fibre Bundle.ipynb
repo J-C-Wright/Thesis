{
 "cells": [
  {
   "cell_type": "code",
   "execution_count": 1,
   "metadata": {
    "collapsed": true
   },
   "outputs": [],
   "source": [
    "from mpl_toolkits.mplot3d import axes3d\n",
    "import matplotlib.pyplot as plt\n",
    "import numpy as np\n",
    "from matplotlib.patches import FancyArrowPatch\n",
    "from mpl_toolkits.mplot3d import proj3d\n",
    "from scipy import interpolate"
   ]
  },
  {
   "cell_type": "code",
   "execution_count": 2,
   "metadata": {
    "collapsed": true
   },
   "outputs": [],
   "source": [
    "class Arrow3D(FancyArrowPatch):\n",
    "    def __init__(self, xs, ys, zs, *args, **kwargs):\n",
    "        FancyArrowPatch.__init__(self, (0,0), (0,0), *args, **kwargs)\n",
    "        self._verts3d = xs, ys, zs\n",
    "\n",
    "    def draw(self, renderer):\n",
    "        xs3d, ys3d, zs3d = self._verts3d\n",
    "        xs, ys, zs = proj3d.proj_transform(xs3d, ys3d, zs3d, renderer.M)\n",
    "        self.set_positions((xs[0],ys[0]),(xs[1],ys[1]))\n",
    "        FancyArrowPatch.draw(self, renderer)"
   ]
  },
  {
   "cell_type": "code",
   "execution_count": 16,
   "metadata": {},
   "outputs": [
    {
     "data": {
      "image/png": "[encoded data removed]",
      "text/plain": [
       "<matplotlib.figure.Figure at 0x10feeec10>"
      ]
     },
     "metadata": {},
     "output_type": "display_data"
    }
   ],
   "source": [
    "fig = plt.figure()\n",
    "ax = fig.add_subplot(111,projection='3d')\n",
    "\n",
    "\n",
    "ax.set_xticks([]) \n",
    "ax.set_yticks([]) \n",
    "ax.set_zticks([])\n",
    "ax.w_xaxis.set_pane_color((1.0, 1.0, 1.0, 0.0))\n",
    "ax.w_yaxis.set_pane_color((1.0, 1.0, 1.0, 0.0))\n",
    "ax.w_zaxis.set_pane_color((1.0, 1.0, 1.0, 0.0))\n",
    "\n",
    "ax.w_xaxis.line.set_color((1.0, 1.0, 1.0, 0.0))\n",
    "ax.w_yaxis.line.set_color((1.0, 1.0, 1.0, 0.0))\n",
    "ax.w_zaxis.line.set_color((1.0, 1.0, 1.0, 0.0))\n",
    "\n",
    "eta = 1.0\n",
    "lam = 0.8\n",
    "#Circle\n",
    "r_c = np.ones(100)*eta\n",
    "theta_c = np.arange(-np.pi,np.pi+0.1,(2*np.pi+0.1)/100.)\n",
    "z_c = np.zeros(100)\n",
    "\n",
    "x_c = r_c*np.cos(theta_c)\n",
    "y_c = r_c*np.sin(theta_c)\n",
    "\n",
    "ax.plot(x_c,y_c,z_c,color='Black',alpha=0)\n",
    "\n",
    "\n",
    "\n",
    "#Axis arrows\n",
    "top = 2.2\n",
    "head_size = 12\n",
    "b = Arrow3D([0,0], [-2.8,3], \n",
    "                [0,0], mutation_scale=head_size, \n",
    "                lw=1, arrowstyle=\"-|>\", color=\"Black\",zorder=0)\n",
    "#ax.add_artist(b)\n",
    "c = Arrow3D([-3,2], [0,0], \n",
    "                [0,0], mutation_scale=head_size, \n",
    "                lw=1, arrowstyle=\"-|>\", color=\"Black\",zorder=0)\n",
    "#ax.add_artist(c)\n",
    "\n",
    "d = Arrow3D([-3,2], [0,0], \n",
    "                [0.5,0.5], mutation_scale=head_size, \n",
    "                lw=1, arrowstyle=\"-|>\", color=\"Black\",zorder=0,alpha=1)\n",
    "ax.add_artist(d)\n",
    "\n",
    "scale = 0.5\n",
    "\n",
    "section = []\n",
    "points = [] \n",
    "for i in np.arange(-4,4,1):\n",
    "    ax.plot(z_c + i/2.0,x_c*scale,y_c*scale+1,color='Black',alpha=0.8)\n",
    "    index = i*6\n",
    "    section.append([z_c[index] + i/2.0,x_c[index]*scale,y_c[index]*scale+1])\n",
    "    points.append([z_c[25] + i/2.0,x_c[25]*scale,y_c[25]*scale+1])\n",
    "\n",
    "section = np.asarray(section).reshape([-1,3])\n",
    "points = np.asarray(points).reshape([-1,3])\n",
    "\n",
    "\n",
    "\n",
    "tck, u = interpolate.splprep([section[:,0],section[:,1],section[:,2]], s=2)\n",
    "x_knots, y_knots, z_knots = interpolate.splev(tck[0], tck)\n",
    "u_fine = np.linspace(0,1,8)\n",
    "x_fine, y_fine, z_fine = interpolate.splev(u_fine, tck)\n",
    "ax.plot(x_fine, y_fine, z_fine, 'Grey',zorder=2)#,ls=':')\n",
    "\n",
    "ax.scatter(section[:,0],section[:,1],section[:,2],c='Black',depthshade=False,alpha=1,zorder=10)\n",
    "ax.scatter(points[:,0],points[:,1],points[:,2],c='Black',depthshade=False,alpha=1,marker='.')\n",
    "\n",
    "\n",
    "#ax.text(1.95, 0, -0.1, \"$\\mathcal{M}$\", color='Black',size=15)\n",
    "ax.text(2.05, 0, 0.45, \"$\\mathcal{M}$\", color='Black',size=15)\n",
    "ax.text(2.05, 0, 1.35, \"$\\mathcal{V} = \\mathrm{U}(1)$\", color='Black',size=15)\n",
    "ax.text(-2.7, 0, 1.5, \"$g(x)$\", color='Black',size=15)\n",
    "\n",
    "\n",
    "plt.savefig('fibre_bundle.pdf', bbox_inches='tight', pad_inches=0)\n",
    "plt.show()"
   ]
  },
  {
   "cell_type": "code",
   "execution_count": null,
   "metadata": {
    "collapsed": true
   },
   "outputs": [],
   "source": []
  }
 ],
 "metadata": {
  "kernelspec": {
   "display_name": "Python 2",
   "language": "python",
   "name": "python2"
  },
  "language_info": {
   "codemirror_mode": {
    "name": "ipython",
    "version": 2
   },
   "file_extension": ".py",
   "mimetype": "text/x-python",
   "name": "python",
   "nbconvert_exporter": "python",
   "pygments_lexer": "ipython2",
   "version": "2.7.12"
  }
 },
 "nbformat": 4,
 "nbformat_minor": 2
}
